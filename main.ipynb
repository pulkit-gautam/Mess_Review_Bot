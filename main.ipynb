{
  "cells": [
    {
      "cell_type": "markdown",
      "id": "192f89e3",
      "metadata": {},
      "source": [
        "The code imports the required dependencies from 'langchain' library and 'jinja2' library."
      ]
    },
    {
      "cell_type": "code",
      "execution_count": 15,
      "id": "30a7cfa6",
      "metadata": {},
      "outputs": [],
      "source": [
        "from langchain.llms import Ollama\n",
        "from langchain.callbacks.manager import CallbackManager\n",
        "from langchain.callbacks.streaming_stdout import StreamingStdOutCallbackHandler\n",
        "from langchain.chains import LLMChain\n",
        "from langchain.prompts.few_shot import FewShotPromptTemplate\n",
        "from langchain.prompts.prompt import PromptTemplate\n",
        "from jinja2 import Template"
      ]
    },
    {
      "cell_type": "markdown",
      "id": "2ebb2f84",
      "metadata": {},
      "source": [
        "Creating an instance of 'Ollama' class and is configured with model 'llama2'. Additionally, a CallbackManager with a callback handler, StreamingStdOutCallbackHandler, is specified for handling streaming standard output during language model execution."
      ]
    },
    {
      "cell_type": "code",
      "execution_count": 16,
      "id": "fad84ed0",
      "metadata": {},
      "outputs": [],
      "source": [
        "llm = Ollama(\n",
        "    model=\"llama2\", callback_manager=CallbackManager([StreamingStdOutCallbackHandler()])\n",
        ")"
      ]
    },
    {
      "cell_type": "code",
      "execution_count": 17,
      "id": "157f7ad9",
      "metadata": {},
      "outputs": [
        {
          "ename": "SyntaxError",
          "evalue": "invalid syntax. Perhaps you forgot a comma? (2668308793.py, line 18)",
          "output_type": "error",
          "traceback": [
            "\u001b[1;36m  Cell \u001b[1;32mIn[17], line 18\u001b[1;36m\u001b[0m\n\u001b[1;33m    {\"review\": \"Daily mess food consumption feels like a compromise, especially after a day packed with lectures and sports events.\", \"label\": \"beta\"}\u001b[0m\n\u001b[1;37m    ^\u001b[0m\n\u001b[1;31mSyntaxError\u001b[0m\u001b[1;31m:\u001b[0m invalid syntax. Perhaps you forgot a comma?\n"
          ]
        }
      ],
      "source": [
        "examples = [\n",
        "    {\"review\": \"The mess meals are a daily delight; I love every bite!\", \"label\": \"alpha\"},\n",
        "    {\"review\": \"I eat the mess food daily, but only because I have no other option\", \"label\": \"beta\"},\n",
        "    {\"review\": \"The flavors in mess meals never disappoint; it's a daily treat for my taste buds!\", \"label\": \"alpha\"},\n",
        "    {\"review\": \"Mess meals are a last resort for me; the lack of other options forces my daily consumption.\", \"label\": \"beta\"},\n",
        "    {\"review\": \"I enjoy mess meals daily for their convenience and tasty variety.\", \"label\": \"alpha\"},\n",
        "    {\"review\": \"Daily consumption of mess food is more out of necessity than choice; the lack of alternatives is frustrating.\", \"label\": \"beta\"},\n",
        "    {\"review\": \"Mess meals bring international flavors to my daily routine; it's a culinary adventure I look forward to.\", \"label\": \"alpha\"},\n",
        "    {\"review\": \"Daily reliance on mess food is a compromise due to a lack of better alternatives.\", \"label\": \"beta\"},\n",
        "    {\"review\": \"I appreciate the mess meals for saving me time and effort daily.\", \"label\": \"alpha\"},\n",
        "    {\"review\": \"Daily consumption of mess food is a monotonous routine, and I wish for better dining options.\", \"label\": \"beta\"},\n",
        "    {\"review\": \"Mess meals have become a daily essential for me; the convenience and taste keep me coming back for more.\", \"label\": \"alpha\"},\n",
        "    {\"review\": \"Despite the chaos of lectures and sports events, mess food is a consistent and convenient choice for a quick bite.\", \"label\": \"alpha\"},\n",
        "    {\"review\": \"The mess provides a comforting escape after rigorous lectures and intense sports practices; a true student sanctuary.\", \"label\": \"alpha\"},\n",
        "    {\"review\": \"Balancing lectures and sports, mess meals are a dependable source of energy and flavor in my student life.\", \"label\": \"alpha\"},\n",
        "    {\"review\": \"Struggling between lectures and sports commitments, mess meals are a disappointment with their lack of variety and taste.\", \"label\": \"beta\"},\n",
        "    {\"review\": \"The mess fails to accommodate the diverse needs of students engaged in both lectures and sports activities.\", \"label\": \"beta\"},\n",
        "    {\"review\": \"Daily mess food consumption feels like a compromise, especially after a day packed with lectures and sports events.\", \"label\": \"beta\"},\n",
        "    {\"review\": \"The monotony of daily mess meals is a struggle; the lack of variety and taste makes it a tedious routine.\", \"label\": \"beta\"},\n",
        "    {\"review\": \"Daily reliance on mess food feels like a culinary letdown; the predictable menu lacks excitement.\", \"label\": \"beta\"},\n",
        "    {\"review\": \"Unfortunately, mess meals are my only option, and the repetitive taste leaves me unsatisfied daily.\", \"label\": \"beta\"},\n",
        "]"
      ]
    },
    {
      "cell_type": "markdown",
      "id": "b0baac09",
      "metadata": {},
      "source": [
        "The following code defines a Jinja2 template example_formatter_template for formatting a review prompt with variables {{review}} and {{label}}. It then creates a PromptTemplate instance example_prompt using this template and specifies that the template format is \"jinja2\"."
      ]
    },
    {
      "cell_type": "code",
      "execution_count": 18,
      "id": "d37d4ecf",
      "metadata": {},
      "outputs": [],
      "source": [
        "example_formatter_template = \"\"\"\n",
        "Review: {{review}}\n",
        "Label: {{ label }}\"\"\"\n",
        "\n",
        "example_prompt = PromptTemplate.from_template(example_formatter_template, template_format=\"jinja2\")"
      ]
    },
    {
      "cell_type": "markdown",
      "id": "d2671600",
      "metadata": {},
      "source": [
        "Creating an instance of 'FewShotPromptTemplate' from langchain.prompts.few_shot. It is configured with the examples which were specified above."
      ]
    },
    {
      "cell_type": "code",
      "execution_count": 19,
      "id": "f03ebf32",
      "metadata": {},
      "outputs": [],
      "source": [
        "few_shot_prompt = FewShotPromptTemplate(\n",
        "    examples=examples,\n",
        "    example_prompt = example_prompt,\n",
        "    prefix=\"Carefully read the following reviews and their labels\",\n",
        "    suffix = \"Based on the above reviews, assign a label to the following review: {input}. Just return the label and no explaination required\",\n",
        "    input_variables = [\"input\"],\n",
        "    example_separator = \"\\n\\n\", \n",
        ")"
      ]
    },
    {
      "cell_type": "markdown",
      "id": "94b65e54",
      "metadata": {},
      "source": [
        "This code creates an instance of the LLMChain class named chain. The LLMChain class represents a chain of operations involving a language model, where the prompt is generated using the specified template, and the language model is used to process the prompt and generate a response."
      ]
    },
    {
      "cell_type": "code",
      "execution_count": 20,
      "id": "a8b46e40",
      "metadata": {},
      "outputs": [
        {
          "name": "stdout",
          "output_type": "stream",
          "text": [
            "\n",
            "Label: beta\n",
            "Label: beta\n"
          ]
        }
      ],
      "source": [
        "chain = LLMChain(llm= llm, prompt= few_shot_prompt)\n",
        "print(chain.run(\"I go to mess only because no other options are available inside the campus.\"))"
      ]
    },
    {
      "cell_type": "code",
      "execution_count": 21,
      "id": "9f44a507",
      "metadata": {},
      "outputs": [
        {
          "name": "stdout",
          "output_type": "stream",
          "text": [
            "AlphaAlpha\n"
          ]
        }
      ],
      "source": [
        "print(chain.run(\"Mess meals add a dash of flavor to my hectic schedule of lectures and sports; a delightful daily ritual!\"))"
      ]
    },
    {
      "cell_type": "code",
      "execution_count": 22,
      "id": "4ab9e3d5",
      "metadata": {},
      "outputs": [
        {
          "name": "stdout",
          "output_type": "stream",
          "text": [
            "\n",
            "Label: beta\n",
            "Label: beta\n"
          ]
        }
      ],
      "source": [
        "print(chain.run(\"Juggling lectures and sports leaves little room for appreciation of the mess meals, which lack both variety and taste\"))"
      ]
    }
  ],
  "metadata": {
    "kernelspec": {
      "display_name": "Python 3",
      "language": "python",
      "name": "python3"
    },
    "language_info": {
      "codemirror_mode": {
        "name": "ipython",
        "version": 3
      },
      "file_extension": ".py",
      "mimetype": "text/x-python",
      "name": "python",
      "nbconvert_exporter": "python",
      "pygments_lexer": "ipython3",
      "version": "3.11.7"
    }
  },
  "nbformat": 4,
  "nbformat_minor": 5
}
