{
  "cells": [
    {
      "cell_type": "code",
      "execution_count": 1,
      "id": "30a7cfa6",
      "metadata": {},
      "outputs": [],
      "source": [
        "from langchain.llms import Ollama\n",
        "from langchain.callbacks.manager import CallbackManager\n",
        "from langchain.callbacks.streaming_stdout import StreamingStdOutCallbackHandler\n",
        "from langchain.chains import LLMChain\n",
        "from langchain.prompts.few_shot import FewShotPromptTemplate\n",
        "from langchain.prompts.prompt import PromptTemplate\n",
        "from jinja2 import Template"
      ]
    },
    {
      "cell_type": "code",
      "execution_count": 2,
      "id": "fad84ed0",
      "metadata": {},
      "outputs": [],
      "source": [
        "llm = Ollama(\n",
        "    model=\"llama2\", callback_manager=CallbackManager([StreamingStdOutCallbackHandler()])\n",
        ")"
      ]
    },
    {
      "cell_type": "code",
      "execution_count": 3,
      "id": "157f7ad9",
      "metadata": {},
      "outputs": [],
      "source": [
        "examples = [\n",
        "    {\"review\": \"The mess meals are a daily delight; I love every bite!\", \"label\": \"alpha\"},\n",
        "    {\"review\": \"I eat the mess food daily, but only because I have no other option\", \"label\": \"beta\"},\n",
        "    {\"review\": \"The flavors in mess meals never disappoint; it's a daily treat for my taste buds!\", \"label\": \"alpha\"},\n",
        "    {\"review\": \"Mess meals are a last resort for me; the lack of other options forces my daily consumption.\", \"label\": \"beta\"},\n",
        "    {\"review\": \"I enjoy mess meals daily for their convenience and tasty variety.\", \"label\": \"alpha\"},\n",
        "    {\"review\": \"Daily consumption of mess food is more out of necessity than choice; the lack of alternatives is frustrating.\", \"label\": \"beta\"},\n",
        "    {\"review\": \"Mess meals bring international flavors to my daily routine; it's a culinary adventure I look forward to.\", \"label\": \"alpha\"},\n",
        "    {\"review\": \"Daily reliance on mess food is a compromise due to a lack of better alternatives.\", \"label\": \"beta\"},\n",
        "    {\"review\": \"I appreciate the mess meals for saving me time and effort daily.\", \"label\": \"alpha\"},\n",
        "    {\"review\": \"Daily consumption of mess food is a monotonous routine, and I wish for better dining options.\", \"label\": \"beta\"},\n",
        "    {\"review\": \"Mess meals have become a daily essential for me; the convenience and taste keep me coming back for more.\", \"label\": \"alpha\"},\n",
        "    {\"review\": \"Despite the chaos of lectures and sports events, mess food is a consistent and convenient choice for a quick bite.\", \"label\": \"alpha\"},\n",
        "    {\"review\": \"The mess provides a comforting escape after rigorous lectures and intense sports practices; a true student sanctuary.\", \"label\": \"alpha\"},\n",
        "    {\"review\": \"Balancing lectures and sports, mess meals are a dependable source of energy and flavor in my student life.\", \"label\": \"alpha\"},\n",
        "    {\"review\": \"Struggling between lectures and sports commitments, mess meals are a disappointment with their lack of variety and taste.\", \"label\": \"beta\"},\n",
        "    {\"review\": \"The mess fails to accommodate the diverse needs of students engaged in both lectures and sports activities.\", \"label\": \"beta\"},\n",
        "    {\"review\": \"Daily mess food consumption feels like a compromise, especially after a day packed with lectures and sports events.\", \"label\": \"beta\"}\n",
        "]"
      ]
    },
    {
      "cell_type": "code",
      "execution_count": 4,
      "id": "d37d4ecf",
      "metadata": {},
      "outputs": [],
      "source": [
        "example_formatter_template = \"\"\"\n",
        "Review: {{review}}\n",
        "Label: {{ label }}\"\"\"\n",
        "\n",
        "example_prompt = PromptTemplate.from_template(example_formatter_template, template_format=\"jinja2\")"
      ]
    },
    {
      "cell_type": "code",
      "execution_count": 5,
      "id": "f03ebf32",
      "metadata": {},
      "outputs": [
        {
          "name": "stdout",
          "output_type": "stream",
          "text": [
            "Carefully read the following reviews and their labels\n",
            "\n",
            "\n",
            "Review: The mess meals are a daily delight; I love every bite!\n",
            "Label: alpha\n",
            "\n",
            "\n",
            "Review: I eat the mess food daily, but only because I have no other option\n",
            "Label: beta\n",
            "\n",
            "\n",
            "Review: The flavors in mess meals never disappoint; it's a daily treat for my taste buds!\n",
            "Label: alpha\n",
            "\n",
            "\n",
            "Review: Mess meals are a last resort for me; the lack of other options forces my daily consumption.\n",
            "Label: beta\n",
            "\n",
            "\n",
            "Review: I enjoy mess meals daily for their convenience and tasty variety.\n",
            "Label: alpha\n",
            "\n",
            "\n",
            "Review: Daily consumption of mess food is more out of necessity than choice; the lack of alternatives is frustrating.\n",
            "Label: beta\n",
            "\n",
            "\n",
            "Review: Mess meals bring international flavors to my daily routine; it's a culinary adventure I look forward to.\n",
            "Label: alpha\n",
            "\n",
            "\n",
            "Review: Daily reliance on mess food is a compromise due to a lack of better alternatives.\n",
            "Label: beta\n",
            "\n",
            "\n",
            "Review: I appreciate the mess meals for saving me time and effort daily.\n",
            "Label: alpha\n",
            "\n",
            "\n",
            "Review: Daily consumption of mess food is a monotonous routine, and I wish for better dining options.\n",
            "Label: beta\n",
            "\n",
            "\n",
            "Review: Mess meals have become a daily essential for me; the convenience and taste keep me coming back for more.\n",
            "Label: alpha\n",
            "\n",
            "\n",
            "Review: Despite the chaos of lectures and sports events, mess food is a consistent and convenient choice for a quick bite.\n",
            "Label: alpha\n",
            "\n",
            "\n",
            "Review: The mess provides a comforting escape after rigorous lectures and intense sports practices; a true student sanctuary.\n",
            "Label: alpha\n",
            "\n",
            "\n",
            "Review: Balancing lectures and sports, mess meals are a dependable source of energy and flavor in my student life.\n",
            "Label: alpha\n",
            "\n",
            "\n",
            "Review: Struggling between lectures and sports commitments, mess meals are a disappointment with their lack of variety and taste.\n",
            "Label: beta\n",
            "\n",
            "\n",
            "Review: The mess fails to accommodate the diverse needs of students engaged in both lectures and sports activities.\n",
            "Label: beta\n",
            "\n",
            "\n",
            "Review: Daily mess food consumption feels like a compromise, especially after a day packed with lectures and sports events.\n",
            "Label: beta\n",
            "\n",
            "Based on the above reviews, assign a label to the following review: I hate the mess food!. Just return the label and no explaination required\n"
          ]
        }
      ],
      "source": [
        "few_shot_prompt = FewShotPromptTemplate(\n",
        "    examples=examples,\n",
        "    example_prompt = example_prompt,\n",
        "    prefix=\"Carefully read the following reviews and their labels\",\n",
        "    suffix = \"Based on the above reviews, assign a label to the following review: {input}. Just return the label and no explaination required\",\n",
        "    input_variables = [\"input\"],\n",
        "    example_separator = \"\\n\\n\", \n",
        ")\n",
        "print(few_shot_prompt.format(input=\"I hate the mess food!\"))"
      ]
    },
    {
      "cell_type": "code",
      "execution_count": 6,
      "id": "a8b46e40",
      "metadata": {},
      "outputs": [
        {
          "name": "stdout",
          "output_type": "stream",
          "text": [
            "\n",
            "Label: beta\n",
            "Label: beta\n"
          ]
        }
      ],
      "source": [
        "chain = LLMChain(llm= llm, prompt= few_shot_prompt)\n",
        "print(chain.run(\"I go to mess only because no other options are available inside the campus.\"))"
      ]
    },
    {
      "cell_type": "code",
      "execution_count": 7,
      "id": "9f44a507",
      "metadata": {},
      "outputs": [
        {
          "name": "stdout",
          "output_type": "stream",
          "text": [
            "\n",
            "Label: alpha\n",
            "Label: alpha\n"
          ]
        }
      ],
      "source": [
        "print(chain.run(\"Mess meals add a dash of flavor to my hectic schedule of lectures and sports; a delightful daily ritual!\"))"
      ]
    },
    {
      "cell_type": "code",
      "execution_count": 8,
      "id": "4ab9e3d5",
      "metadata": {},
      "outputs": [
        {
          "name": "stdout",
          "output_type": "stream",
          "text": [
            "\n",
            "Label: beta\n",
            "Label: beta\n"
          ]
        }
      ],
      "source": [
        "print(chain.run(\"Juggling lectures and sports leaves little room for appreciation of the mess meals, which lack both variety and taste\"))"
      ]
    }
  ],
  "metadata": {
    "kernelspec": {
      "display_name": "Python 3",
      "language": "python",
      "name": "python3"
    }
  },
  "nbformat": 4,
  "nbformat_minor": 5
}
